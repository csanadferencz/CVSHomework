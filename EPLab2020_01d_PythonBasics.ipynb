{
  "nbformat": 4,
  "nbformat_minor": 0,
  "metadata": {
    "colab": {
      "name": "EPLab2020_01d_PythonBasics.ipynb",
      "provenance": [],
      "collapsed_sections": [],
      "include_colab_link": true
    },
    "kernelspec": {
      "name": "python3",
      "display_name": "Python 3"
    },
    "accelerator": "GPU"
  },
  "cells": [
    {
      "cell_type": "markdown",
      "metadata": {
        "id": "view-in-github",
        "colab_type": "text"
      },
      "source": [
        "<a href=\"https://colab.research.google.com/github/csanadferencz/CVSHomework/blob/master/EPLab2020_01d_PythonBasics.ipynb\" target=\"_parent\"><img src=\"https://colab.research.google.com/assets/colab-badge.svg\" alt=\"Open In Colab\"/></a>"
      ]
    },
    {
      "cell_type": "markdown",
      "metadata": {
        "id": "pARxA4v4V--9"
      },
      "source": [
        "# **EPLab 01d: Python Basics**\n",
        "v2020.01\n",
        "\n",
        "\n",
        "---\n",
        "\n",
        "Version history:  \n",
        "v2020.01 - initial version\n",
        "\n",
        "---"
      ]
    },
    {
      "cell_type": "markdown",
      "metadata": {
        "id": "5BMGJh6riN_7"
      },
      "source": [
        "### Using the Google Colab development environment\n",
        "\n",
        "In order to participate in the course, you will need a Google account. We will be using the Google Drive and Google Colab web applications through a suitable browser (e.g. any modern version of Google Chrome or Mozilla Firefox).\n",
        "\n",
        "Google Drive is a cloud-based storage facility where you can save all your work.\n",
        "\n",
        "Google Colab gives you access to a cloud-based python development environment through notebooks. Notebooks are combined markdown + source code documents that enable formatted commenting, on-demand snippet execution by the interpreter, visualization, sharing and collaboration. Python notebook files have the extension .ipynb and are compatible with local notebook environments like IPythonNotebook and JupyterNotebook.\n",
        "\n",
        "Every time you open a shared notebook during the course, you have to do the following steps before starting to work on it:\n",
        "1. Download the notebook to your own Google Drive storage.\n",
        " - Click \"Open in playground mode\" (upper left taskbar)\n",
        " - Click \"Save to Google Drive\" (upper left taskbar)\n",
        " - Rename the notebook as you wish (upper left corner)\n",
        "2. Connect to a \"Python 3 (GPU)\" runtime.\n",
        " - Click on the \"Connect\" button (upper right taskbar)\n",
        " - Wait until it connects (Allocating)\n",
        " - Hover over the RAM/Disk indicators (upper right taskbar): you should check that you got a Python 3 backend with GPU support\n",
        " - If your backend is not \"Python 3 (GPU)\", in the menu click \"Runtime\" then \"Change runtime type\" and select \"Python 3\" and \"GPU\"\n",
        "\n",
        "Once you have done step 1,  you don't have to repeat it. Just open your copy of the Colab notebook from your own Google Drive storage (not the one I shared), and you are good to go. Just make sure you always connect to the correct runtime.\n",
        "\n",
        "There is autosave but you can always click Ctrl+S to save your work.\n",
        "You can use the mouse to click on the \"run cell\" icons (round play button) in the upper left corner of each code cell. Alternatively, you can use the Ctrl+Enter (and Shift+Enter) key combinations for running the cell (and selecting the next cell)."
      ]
    },
    {
      "cell_type": "markdown",
      "metadata": {
        "id": "uG9nymWbm-zQ"
      },
      "source": [
        "### Python basics\n",
        "Trying the sample code snippets below should be enough to get you through the lab. This is not a programming course but you have to be able to\n",
        "- perform basic math operations with literals and variables,\n",
        "- understand basic control flow (if, for statements),\n",
        "- define functions,\n",
        "- manipulate numpy matrices and\n",
        "- print or visualize their content.\n",
        "\n",
        "If you need further material, visit: https://docs.python.org/3/tutorial/index.html"
      ]
    },
    {
      "cell_type": "code",
      "metadata": {
        "id": "eTEOyPooHPy4",
        "outputId": "fc065f6d-a9b0-42f9-d8f0-90b2a9c41b99",
        "colab": {
          "base_uri": "https://localhost:8080/",
          "height": 34
        }
      },
      "source": [
        "3"
      ],
      "execution_count": null,
      "outputs": [
        {
          "output_type": "execute_result",
          "data": {
            "text/plain": [
              "3"
            ]
          },
          "metadata": {
            "tags": []
          },
          "execution_count": 13
        }
      ]
    },
    {
      "cell_type": "code",
      "metadata": {
        "id": "xN0JEI2XnDAc",
        "outputId": "d4dc3d55-11c9-47f1-9e3d-e0eb0d9464fb",
        "colab": {
          "base_uri": "https://localhost:8080/",
          "height": 143
        }
      },
      "source": [
        "# This is a line comment.\n",
        "\"\"\"\n",
        "And this is\n",
        "a block comment.\n",
        "\"\"\"\n",
        "a = 3  # assignment, not equality!\n",
        "b = a + 2\n",
        "print(1)\n",
        "print(a**0)  # power notation of x to the power of y: x**y\n",
        "print(1+1)\n",
        "print(a)\n",
        "print(b)\n",
        "print(a+b)\n",
        "print('Guess the next number!')"
      ],
      "execution_count": null,
      "outputs": [
        {
          "output_type": "stream",
          "text": [
            "1\n",
            "1\n",
            "2\n",
            "3\n",
            "5\n",
            "8\n",
            "Guess the next number!\n"
          ],
          "name": "stdout"
        }
      ]
    },
    {
      "cell_type": "code",
      "metadata": {
        "id": "ZHi2MpBQtksE",
        "outputId": "cf4f73a1-d95f-4696-fbf1-b5d9adaca785",
        "colab": {
          "base_uri": "https://localhost:8080/",
          "height": 35
        }
      },
      "source": [
        "a = b + a+b  # reassign variable a\n",
        "print(f'The next number is {a}. This seems like a Fibonacci sequence!')  # note f'' syntax for formatted strings"
      ],
      "execution_count": null,
      "outputs": [
        {
          "output_type": "stream",
          "text": [
            "The next number is 13. This seems like a Fibonacci sequence!\n"
          ],
          "name": "stdout"
        }
      ]
    },
    {
      "cell_type": "code",
      "metadata": {
        "id": "UTb3OlVXwEF0",
        "outputId": "0f1fef38-f895-4811-ff69-1fc0c94cf87c",
        "colab": {
          "base_uri": "https://localhost:8080/",
          "height": 125
        }
      },
      "source": [
        "print(f'Let\\'s do sequences with lists.')\n",
        "c = [1,1,2,3,5,8,13,21,34,55]\n",
        "print(f'Simple fib: {c}')\n",
        "print(f'Python indexing is done with square brackets and starts with 0: {c[0]}. Element at idx 5: {c[5]}. '\\\n",
        "      f'Last element: {c[-1]}. Next to last element: {c[-2]}.')  # note the line break in the code\n",
        "d = range(10)\n",
        "print(f'Nums up to 10: {d}')\n",
        "print(f'Type of d is: {type(d)}')\n",
        "d_list = list(d)\n",
        "print(f'We need d as a {type(d_list)}: {d_list}.')"
      ],
      "execution_count": null,
      "outputs": [
        {
          "output_type": "stream",
          "text": [
            "Let's do sequences with lists.\n",
            "Simple fib: [1, 1, 2, 3, 5, 8, 13, 21, 34, 55]\n",
            "Python indexing is done with square brackets and starts with 0: 1. Element at idx 5: 8. Last element: 55. Next to last element: 34.\n",
            "Nums up to 10: range(0, 10)\n",
            "Type of d is: <class 'range'>\n",
            "We need d as a <class 'list'>: [0, 1, 2, 3, 4, 5, 6, 7, 8, 9].\n"
          ],
          "name": "stdout"
        }
      ]
    },
    {
      "cell_type": "code",
      "metadata": {
        "id": "JKkxPT3_zcLL",
        "outputId": "b2743dcb-07c6-40f0-a530-23cb87f16076",
        "colab": {
          "base_uri": "https://localhost:8080/",
          "height": 161
        }
      },
      "source": [
        "# Let's learn the for loop\n",
        "e = []\n",
        "print(e)\n",
        "e.append(1)\n",
        "e.append(1)\n",
        "print(e)\n",
        "print(len(e))\n",
        "\n",
        "for i in range(2, 20):\n",
        "    e.append(e[i-1] + e[i-2])  # Python is indentation-aware! use Tab key!\n",
        "\n",
        "print(e)\n",
        "ee = enumerate(e)\n",
        "print(ee)\n",
        "lee = list(ee)\n",
        "print(lee)\n",
        "print(type(lee[15])) # a tuple is like a fixed-length immutable list.\n",
        "print(lee[15])"
      ],
      "execution_count": null,
      "outputs": [
        {
          "output_type": "stream",
          "text": [
            "[]\n",
            "[1, 1]\n",
            "2\n",
            "[1, 1, 2, 3, 5, 8, 13, 21, 34, 55, 89, 144, 233, 377, 610, 987, 1597, 2584, 4181, 6765]\n",
            "<enumerate object at 0x7fb857bafa68>\n",
            "[(0, 1), (1, 1), (2, 2), (3, 3), (4, 5), (5, 8), (6, 13), (7, 21), (8, 34), (9, 55), (10, 89), (11, 144), (12, 233), (13, 377), (14, 610), (15, 987), (16, 1597), (17, 2584), (18, 4181), (19, 6765)]\n",
            "<class 'tuple'>\n",
            "(15, 987)\n"
          ],
          "name": "stdout"
        }
      ]
    },
    {
      "cell_type": "code",
      "metadata": {
        "id": "NrL0cm0rC5cn"
      },
      "source": [
        "# define a function you will reuse\n",
        "def fibgen(n=10):  # if not specified otherwise, default value for argument n is 10\n",
        "    result = [1,1]\n",
        "    for i in range(2,n):\n",
        "        result.append(result[i-1] + result[i-2])\n",
        "    return result"
      ],
      "execution_count": null,
      "outputs": []
    },
    {
      "cell_type": "code",
      "metadata": {
        "id": "Ui-EIotEC5lg",
        "outputId": "99bdb196-e1ba-4d33-ab54-c9680f8e78e2",
        "colab": {
          "base_uri": "https://localhost:8080/",
          "height": 53
        }
      },
      "source": [
        "fibs = fibgen()    # invoke your function\n",
        "print(fibs)\n",
        "fibs = fibgen(33)  # invoke your function again\n",
        "print(fibs)"
      ],
      "execution_count": null,
      "outputs": [
        {
          "output_type": "stream",
          "text": [
            "[1, 1, 2, 3, 5, 8, 13, 21, 34, 55]\n",
            "[1, 1, 2, 3, 5, 8, 13, 21, 34, 55, 89, 144, 233, 377, 610, 987, 1597, 2584, 4181, 6765, 10946, 17711, 28657, 46368, 75025, 121393, 196418, 317811, 514229, 832040, 1346269, 2178309, 3524578]\n"
          ],
          "name": "stdout"
        }
      ]
    },
    {
      "cell_type": "code",
      "metadata": {
        "id": "0rfrgaga1sge",
        "outputId": "ad3995de-4403-407f-cbaa-622eeb4e1749",
        "colab": {
          "base_uri": "https://localhost:8080/",
          "height": 341
        }
      },
      "source": [
        "print(a==999) # note == is equality, not assignment!\n",
        "\n",
        "for i, fib in enumerate(fibs):  # for each tuple (i, fib)\n",
        "    if i%2 == 0:  # if index is even (divisible by 2) (note modulo operator is %)\n",
        "        print(f'{i+1:02d}-th Fibonacci number is: {fib:7d}')  # note the formatting tricks. read manual for more."
      ],
      "execution_count": null,
      "outputs": [
        {
          "output_type": "stream",
          "text": [
            "False\n",
            "01-th Fibonacci number is:       1\n",
            "03-th Fibonacci number is:       2\n",
            "05-th Fibonacci number is:       5\n",
            "07-th Fibonacci number is:      13\n",
            "09-th Fibonacci number is:      34\n",
            "11-th Fibonacci number is:      89\n",
            "13-th Fibonacci number is:     233\n",
            "15-th Fibonacci number is:     610\n",
            "17-th Fibonacci number is:    1597\n",
            "19-th Fibonacci number is:    4181\n",
            "21-th Fibonacci number is:   10946\n",
            "23-th Fibonacci number is:   28657\n",
            "25-th Fibonacci number is:   75025\n",
            "27-th Fibonacci number is:  196418\n",
            "29-th Fibonacci number is:  514229\n",
            "31-th Fibonacci number is: 1346269\n",
            "33-th Fibonacci number is: 3524578\n"
          ],
          "name": "stdout"
        }
      ]
    },
    {
      "cell_type": "code",
      "metadata": {
        "id": "Uyto08_KHApE",
        "outputId": "accc09c7-c6fc-42ba-f050-3e836bbc4277",
        "colab": {
          "base_uri": "https://localhost:8080/",
          "height": 34
        }
      },
      "source": [
        "import sys\n",
        "sys.version_info"
      ],
      "execution_count": null,
      "outputs": [
        {
          "output_type": "execute_result",
          "data": {
            "text/plain": [
              "sys.version_info(major=3, minor=6, micro=9, releaselevel='final', serial=0)"
            ]
          },
          "metadata": {
            "tags": []
          },
          "execution_count": 12
        }
      ]
    },
    {
      "cell_type": "markdown",
      "metadata": {
        "id": "xgk_seIH2W_o"
      },
      "source": [
        "### Learn Numpy\n",
        "Numpy is the best n-dimensional general-purpose linear algebra library for Python. It is convenient, fast (implemented in C and compiled to native), well-supported, and everyone uses it."
      ]
    },
    {
      "cell_type": "code",
      "metadata": {
        "id": "zKgKuqMz2OsO",
        "outputId": "3b2a57e4-e7fc-4176-c859-861ceb712e84",
        "colab": {
          "base_uri": "https://localhost:8080/",
          "height": 143
        }
      },
      "source": [
        "# let's import numpy in order to be able to use it\n",
        "import numpy as np\n",
        "\n",
        "f = np.array(e)\n",
        "print(type(f))\n",
        "print(f)\n",
        "print(f.shape)  # if a tuple is one long, we put the comma in the end\n",
        "print(f[5])\n",
        "print(f[[5,15]])\n",
        "print(f[[5]])"
      ],
      "execution_count": null,
      "outputs": [
        {
          "output_type": "stream",
          "text": [
            "<class 'numpy.ndarray'>\n",
            "[   1    1    2    3    5    8   13   21   34   55   89  144  233  377\n",
            "  610  987 1597 2584 4181 6765]\n",
            "(20,)\n",
            "8\n",
            "[  8 987]\n",
            "[8]\n"
          ],
          "name": "stdout"
        }
      ]
    },
    {
      "cell_type": "code",
      "metadata": {
        "id": "ywYBuZKd8hgg",
        "outputId": "e2f748f9-764a-4c38-efa8-679e189bb592",
        "colab": {
          "base_uri": "https://localhost:8080/",
          "height": 323
        }
      },
      "source": [
        "g = np.array([[1,2,3],\n",
        "              [4,5,6]])\n",
        "print(type(g))\n",
        "print(g)\n",
        "print(g.shape)\n",
        "print('Some indexing...')\n",
        "print(g[1,0])\n",
        "print(g[0,2])\n",
        "print(g[1])\n",
        "print(g[1,:])\n",
        "print(g[1,1:])\n",
        "print(g[1,:2])\n",
        "print(g[:,1])\n",
        "print('More indexing...')\n",
        "print(g[:,[1,2]])\n",
        "print(g[:,[1]])"
      ],
      "execution_count": null,
      "outputs": [
        {
          "output_type": "stream",
          "text": [
            "<class 'numpy.ndarray'>\n",
            "[[1 2 3]\n",
            " [4 5 6]]\n",
            "(2, 3)\n",
            "Some indexing...\n",
            "4\n",
            "3\n",
            "[4 5 6]\n",
            "[4 5 6]\n",
            "[5 6]\n",
            "[4 5]\n",
            "[2 5]\n",
            "More indexing...\n",
            "[[2 3]\n",
            " [5 6]]\n",
            "[[2]\n",
            " [5]]\n"
          ],
          "name": "stdout"
        }
      ]
    },
    {
      "cell_type": "code",
      "metadata": {
        "id": "HW6didxS9vG9",
        "outputId": "137309e6-f3f5-40bd-e0b7-bdc50a08c290",
        "colab": {
          "base_uri": "https://localhost:8080/",
          "height": 215
        }
      },
      "source": [
        "# Numpy broadcasting\n",
        "print(2*g)\n",
        "print()\n",
        "\n",
        "h1 = np.array([[10, 20, 30]])\n",
        "h2 = np.array([[100], [200]])\n",
        "print(h1)\n",
        "print(h2)\n",
        "print()\n",
        "\n",
        "print(g+h1)\n",
        "print(g+h2)"
      ],
      "execution_count": null,
      "outputs": [
        {
          "output_type": "stream",
          "text": [
            "[[ 2  4  6]\n",
            " [ 8 10 12]]\n",
            "\n",
            "[[10 20 30]]\n",
            "[[100]\n",
            " [200]]\n",
            "\n",
            "[[11 22 33]\n",
            " [14 25 36]]\n",
            "[[101 102 103]\n",
            " [204 205 206]]\n"
          ],
          "name": "stdout"
        }
      ]
    },
    {
      "cell_type": "code",
      "metadata": {
        "id": "ebWbDbMKLjjL",
        "outputId": "8a76e1b2-9f30-4bb2-ec12-a58a091d14c7",
        "colab": {
          "base_uri": "https://localhost:8080/",
          "height": 179
        }
      },
      "source": [
        "# and of course, the dot product:\n",
        "print(h1)\n",
        "v = np.array([[1,2,3]]).T  # T for transpose\n",
        "print(v)\n",
        "print()\n",
        "\n",
        "print(np.dot(h1, v))\n",
        "print(np.dot(v, h1))"
      ],
      "execution_count": null,
      "outputs": [
        {
          "output_type": "stream",
          "text": [
            "[[10 20 30]]\n",
            "[[1]\n",
            " [2]\n",
            " [3]]\n",
            "\n",
            "[[140]]\n",
            "[[10 20 30]\n",
            " [20 40 60]\n",
            " [30 60 90]]\n"
          ],
          "name": "stdout"
        }
      ]
    },
    {
      "cell_type": "markdown",
      "metadata": {
        "id": "Km1UPrOu8DaJ"
      },
      "source": [
        "### COVID calculator\n",
        "Let's do something useful with python."
      ]
    },
    {
      "cell_type": "code",
      "metadata": {
        "id": "--t1tXxm8PGg"
      },
      "source": [
        "def ppv(sensitivity=1.0, specificity=1.0, prevalence=0.01, verbose=False):\n",
        "    result = sensitivity*prevalence / (sensitivity*prevalence + (1-specificity)*(1-prevalence))\n",
        "    if verbose:\n",
        "        print(f\"Positive result means {100*result:6.2f}% chance of infection     @ {printperf(sensitivity, specificity, prevalence)}\")\n",
        "    return result\n",
        "\n",
        "def npv(sensitivity=1.0, specificity=1.0, prevalence=0.01, verbose=False):\n",
        "    result = specificity*(1-prevalence) / (specificity*(1-prevalence) + (1-sensitivity)*prevalence)\n",
        "    if verbose:\n",
        "        print(f\"Negative result means {100*result:6.2f}% chance of being healthy @ {printperf(sensitivity, specificity, prevalence)}\")\n",
        "    return result\n",
        "\n",
        "def printperf(sensitivity, specificity, prevalence):\n",
        "    return f\"[SNS={100*sensitivity:6.2f}%; SPC={100*specificity:6.2f}%; R={100*prevalence:6.2f}%]\""
      ],
      "execution_count": null,
      "outputs": []
    },
    {
      "cell_type": "code",
      "metadata": {
        "id": "RsKpSKL89ISK",
        "outputId": "df4c178f-a77b-42d5-94bd-8a37f8f4b582",
        "colab": {
          "base_uri": "https://localhost:8080/",
          "height": 51
        }
      },
      "source": [
        "sns = 0.99\n",
        "spc = 0.96\n",
        "r = 0.001\n",
        "\n",
        "_ = ppv(sns, spc, r, verbose=True)\n",
        "_ = npv(sns, spc, r, verbose=True)"
      ],
      "execution_count": null,
      "outputs": [
        {
          "output_type": "stream",
          "text": [
            "Positive result means   2.42% chance of infection     @ [SNS= 99.00%; SPC= 96.00%; R=  0.10%]\n",
            "Negative result means 100.00% chance of being healthy @ [SNS= 99.00%; SPC= 96.00%; R=  0.10%]\n"
          ],
          "name": "stdout"
        }
      ]
    },
    {
      "cell_type": "markdown",
      "metadata": {
        "id": "51pLRDhl-tYN"
      },
      "source": [
        "This is enough for preparation! You will learn some further tricks (e.g. graphical visualization) during the lab session."
      ]
    }
  ]
}